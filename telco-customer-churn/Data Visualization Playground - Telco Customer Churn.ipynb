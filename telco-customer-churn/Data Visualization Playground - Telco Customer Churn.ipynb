{
 "cells": [
  {
   "cell_type": "markdown",
   "id": "b6d2b5e0",
   "metadata": {},
   "source": [
    "# Data Visualization Playground - Telco Customer Churn\n",
    "\n",
    "This is a data visualization playground (a.k.a cheat sheet) for various data type combination using python. Of course, I didn't own all of the code. Credit belongs to the owner. I'll try to attach the references for each visualization.\n",
    "\n",
    "If you have any suggestions, PR are welcome. To make it simple, the visualization focused on one dataset. For starting point, I'll use [Telco Customer Churn dataset](https://www.kaggle.com/blastchar/telco-customer-churn) and use `Churn` feature as the target feature."
   ]
  }
 ],
 "metadata": {
  "kernelspec": {
   "display_name": "Python 3",
   "language": "python",
   "name": "python3"
  },
  "language_info": {
   "codemirror_mode": {
    "name": "ipython",
    "version": 3
   },
   "file_extension": ".py",
   "mimetype": "text/x-python",
   "name": "python",
   "nbconvert_exporter": "python",
   "pygments_lexer": "ipython3",
   "version": "3.8.2"
  }
 },
 "nbformat": 4,
 "nbformat_minor": 5
}
